{
 "cells": [
  {
   "cell_type": "code",
   "execution_count": 20,
   "metadata": {},
   "outputs": [],
   "source": [
    "import numpy as np \n",
    "import pandas as pd \n",
    " \n",
    "# Set seed for reproducibility \n",
    "np.random.seed(42) \n",
    " \n",
    "# Generate synthetic data for control and test groups \n",
    "n_control, n_test = 5000, 5000 \n",
    "data = pd.DataFrame({ \n",
    "    \"group\": [\"control\"] * n_control + [\"test\"] * n_test, \n",
    "    \"loan_uptake\": np.random.binomial(1, 0.05, n_control).tolist() +  \n",
    "                   np.random.binomial(1, 0.055, n_test).tolist(),  # Slight uplift in test \n",
    "    \"loan_value\": np.random.normal(500, 50, n_control).tolist() +  \n",
    "                  np.random.normal(510, 50, n_test).tolist()  # Slightly higher avg in test \n",
    "}) \n"
   ]
  },
  {
   "cell_type": "code",
   "execution_count": 22,
   "metadata": {},
   "outputs": [
    {
     "data": {
      "text/html": [
       "<div>\n",
       "<style scoped>\n",
       "    .dataframe tbody tr th:only-of-type {\n",
       "        vertical-align: middle;\n",
       "    }\n",
       "\n",
       "    .dataframe tbody tr th {\n",
       "        vertical-align: top;\n",
       "    }\n",
       "\n",
       "    .dataframe thead th {\n",
       "        text-align: right;\n",
       "    }\n",
       "</style>\n",
       "<table border=\"1\" class=\"dataframe\">\n",
       "  <thead>\n",
       "    <tr style=\"text-align: right;\">\n",
       "      <th></th>\n",
       "      <th>group</th>\n",
       "      <th>loan_uptake</th>\n",
       "      <th>loan_value</th>\n",
       "    </tr>\n",
       "  </thead>\n",
       "  <tbody>\n",
       "    <tr>\n",
       "      <th>0</th>\n",
       "      <td>control</td>\n",
       "      <td>0</td>\n",
       "      <td>425.606915</td>\n",
       "    </tr>\n",
       "    <tr>\n",
       "      <th>1</th>\n",
       "      <td>control</td>\n",
       "      <td>1</td>\n",
       "      <td>443.740695</td>\n",
       "    </tr>\n",
       "    <tr>\n",
       "      <th>2</th>\n",
       "      <td>control</td>\n",
       "      <td>0</td>\n",
       "      <td>519.440946</td>\n",
       "    </tr>\n",
       "    <tr>\n",
       "      <th>3</th>\n",
       "      <td>control</td>\n",
       "      <td>0</td>\n",
       "      <td>441.306334</td>\n",
       "    </tr>\n",
       "    <tr>\n",
       "      <th>4</th>\n",
       "      <td>control</td>\n",
       "      <td>0</td>\n",
       "      <td>555.631715</td>\n",
       "    </tr>\n",
       "  </tbody>\n",
       "</table>\n",
       "</div>"
      ],
      "text/plain": [
       "     group  loan_uptake  loan_value\n",
       "0  control            0  425.606915\n",
       "1  control            1  443.740695\n",
       "2  control            0  519.440946\n",
       "3  control            0  441.306334\n",
       "4  control            0  555.631715"
      ]
     },
     "execution_count": 22,
     "metadata": {},
     "output_type": "execute_result"
    }
   ],
   "source": [
    "data.head()"
   ]
  },
  {
   "cell_type": "code",
   "execution_count": 25,
   "metadata": {},
   "outputs": [
    {
     "name": "stdout",
     "output_type": "stream",
     "text": [
      "Required sample size per group: 5\n"
     ]
    }
   ],
   "source": [
    "from statsmodels.stats.power import TTestIndPower \n",
    " \n",
    "# Parameters \n",
    "effect_size = 0.1 / 0.05  # Expected uplift / baseline rate \n",
    "alpha = 0.05 \n",
    "power = 0.80 \n",
    " \n",
    "# Sample size calculation \n",
    "analysis = TTestIndPower() \n",
    "sample_size = analysis.solve_power(effect_size=effect_size, alpha=alpha, power=power) \n",
    "print(f\"Required sample size per group: {sample_size:.0f}\") \n"
   ]
  },
  {
   "cell_type": "code",
   "execution_count": 26,
   "metadata": {},
   "outputs": [
    {
     "name": "stdout",
     "output_type": "stream",
     "text": [
      "t-Test for Loan Value: t-statistic = -11.469, p-value = 0.000\n",
      "Chi-Square Test for Loan Uptake: chi2-statistic = 0.019, p-value = 0.891\n"
     ]
    }
   ],
   "source": [
    "from scipy.stats import ttest_ind, chi2_contingency \n",
    " \n",
    "# t-Test for loan value \n",
    "control_values = data[data[\"group\"] == \"control\"][\"loan_value\"] \n",
    "test_values = data[data[\"group\"] == \"test\"][\"loan_value\"] \n",
    "t_stat, p_value = ttest_ind(control_values, test_values) \n",
    "print(f\"t-Test for Loan Value: t-statistic = {t_stat:.3f}, p-value = {p_value:.3f}\") \n",
    " \n",
    "# Chi-Square Test for loan uptake \n",
    "contingency_table = pd.crosstab(data[\"group\"], data[\"loan_uptake\"]) \n",
    "chi2_stat, p_value, _, _ = chi2_contingency(contingency_table) \n",
    "print(f\"Chi-Square Test for Loan Uptake: chi2-statistic = {chi2_stat:.3f}, p-value = {p_value:.3f}\") \n",
    " "
   ]
  },
  {
   "cell_type": "code",
   "execution_count": 31,
   "metadata": {},
   "outputs": [
    {
     "name": "stdout",
     "output_type": "stream",
     "text": [
      "Chi-Square Statistic: 6.6116644530553685, P-value: 0.010131292255561608\n"
     ]
    }
   ],
   "source": [
    "import scipy.stats as stats \n",
    " \n",
    "# Observed data: [successes, failures] for control and test \n",
    "observed = [[50, 950],  # Control group: 50 successes, 950 failures \n",
    "            [80, 930]]  # Test group: 55 successes, 945 failures \n",
    " \n",
    "chi2, p_value, _, _ = stats.chi2_contingency(observed) \n",
    "print(f\"Chi-Square Statistic: {chi2}, P-value: {p_value}\")"
   ]
  },
  {
   "cell_type": "code",
   "execution_count": 38,
   "metadata": {},
   "outputs": [
    {
     "name": "stdout",
     "output_type": "stream",
     "text": [
      "T-Statistic: -2.4884582322703364, P-value: 0.037612502477207176\n"
     ]
    }
   ],
   "source": [
    "import scipy.stats as stats \n",
    " \n",
    "# Loan amounts for control and test groups \n",
    "control_loans = [500, 510, 495, 505, 490] \n",
    "test_loans = [910, 820, 600, 615, 500] \n",
    " \n",
    "# Perform independent t-test \n",
    "t_stat, p_value = stats.ttest_ind(control_loans, test_loans) \n",
    "print(f\"T-Statistic: {t_stat}, P-value: {p_value}\")"
   ]
  },
  {
   "cell_type": "code",
   "execution_count": 43,
   "metadata": {},
   "outputs": [
    {
     "data": {
      "image/png": "[encoded data removed]",
      "text/plain": [
       "<Figure size 640x480 with 1 Axes>"
      ]
     },
     "metadata": {},
     "output_type": "display_data"
    }
   ],
   "source": [
    "import matplotlib.pyplot as plt \n",
    " \n",
    "# Sample data \n",
    "data = [500, 510, 495, 505, 490, 515, 520] \n",
    " \n",
    "# Plot histogram \n",
    "plt.hist(data, bins=10, edgecolor='black') \n",
    "plt.title(\"Histogram\") \n",
    "plt.show()"
   ]
  },
  {
   "cell_type": "code",
   "execution_count": 44,
   "metadata": {},
   "outputs": [
    {
     "data": {
      "image/png": "[encoded data removed]",
      "text/plain": [
       "<Figure size 640x480 with 1 Axes>"
      ]
     },
     "metadata": {},
     "output_type": "display_data"
    }
   ],
   "source": [
    "import scipy.stats as stats \n",
    "import matplotlib.pyplot as plt \n",
    " \n",
    "# Q-Q plot \n",
    "stats.probplot(data, dist=\"norm\", plot=plt) \n",
    "plt.show()"
   ]
  },
  {
   "cell_type": "code",
   "execution_count": 45,
   "metadata": {},
   "outputs": [
    {
     "name": "stdout",
     "output_type": "stream",
     "text": [
      "Skewness: 0.0, Kurtosis: 1.75\n"
     ]
    }
   ],
   "source": [
    "from scipy.stats import skew, kurtosis \n",
    " \n",
    "data_skewness = skew(data) \n",
    "data_kurtosis = kurtosis(data, fisher=False)  # Use fisher=False for Pearson kurtosis \n",
    "print(f\"Skewness: {data_skewness}, Kurtosis: {data_kurtosis}\")"
   ]
  },
  {
   "cell_type": "markdown",
   "metadata": {},
   "source": [
    "How to use Dictionary"
   ]
  },
  {
   "cell_type": "code",
   "execution_count": 1,
   "metadata": {},
   "outputs": [
    {
     "name": "stdout",
     "output_type": "stream",
     "text": [
      "{'e': 9, 'm': 5, 'f': 4, 'd': 2, 'p': 3, 'o': 10, 'j': 4, 'w': 7, 'r': 6, 'l': 1, 's': 1, 'k': 1, 'n': 1, 'i': 1, '3': 1}\n"
     ]
    }
   ],
   "source": [
    "input_str = \"emfdpojewormldsmfeworewknoerjio3rjoemfoewrjewoprewofmpow\"\n",
    "input_dict = {}\n",
    "for char in input_str:\n",
    "    if char not in input_dict:\n",
    "        input_dict[char] = 1\n",
    "    else:\n",
    "        input_dict[char] += 1\n",
    "print(input_dict)    \n"
   ]
  },
  {
   "cell_type": "code",
   "execution_count": 6,
   "metadata": {},
   "outputs": [
    {
     "name": "stdout",
     "output_type": "stream",
     "text": [
      "1 - e\n",
      "2 - m\n",
      "3 - f\n",
      "4 - d\n",
      "5 - p\n",
      "6 - o\n",
      "7 - j\n",
      "8 - w\n",
      "9 - r\n",
      "10 - l\n",
      "11 - s\n",
      "12 - k\n",
      "13 - n\n",
      "14 - i\n",
      "15 - 3\n"
     ]
    }
   ],
   "source": [
    "for index, name in enumerate(input_dict, start=1):\n",
    "    print(str(index)+' - '+name)"
   ]
  },
  {
   "cell_type": "markdown",
   "metadata": {},
   "source": [
    "Numpy"
   ]
  },
  {
   "cell_type": "code",
   "execution_count": 2,
   "metadata": {},
   "outputs": [],
   "source": [
    "import numpy as np"
   ]
  },
  {
   "cell_type": "code",
   "execution_count": 3,
   "metadata": {},
   "outputs": [
    {
     "data": {
      "text/plain": [
       "array([[0., 0., 0.],\n",
       "       [0., 0., 0.]])"
      ]
     },
     "execution_count": 3,
     "metadata": {},
     "output_type": "execute_result"
    }
   ],
   "source": [
    "np.zeros((2,3))"
   ]
  },
  {
   "cell_type": "code",
   "execution_count": 4,
   "metadata": {},
   "outputs": [
    {
     "data": {
      "text/plain": [
       "array([ 0,  2,  4,  6,  8, 10, 12, 14, 16, 18])"
      ]
     },
     "execution_count": 4,
     "metadata": {},
     "output_type": "execute_result"
    }
   ],
   "source": [
    "np.arange(0,20,2)"
   ]
  },
  {
   "cell_type": "code",
   "execution_count": 5,
   "metadata": {},
   "outputs": [
    {
     "data": {
      "text/plain": [
       "array([ 0.,  5., 10., 15., 20.])"
      ]
     },
     "execution_count": 5,
     "metadata": {},
     "output_type": "execute_result"
    }
   ],
   "source": [
    "np.linspace(0,20,5)"
   ]
  },
  {
   "cell_type": "code",
   "execution_count": 6,
   "metadata": {},
   "outputs": [
    {
     "data": {
      "text/plain": [
       "array([ 0.        ,  1.11111111,  2.22222222,  3.33333333,  4.44444444,\n",
       "        5.55555556,  6.66666667,  7.77777778,  8.88888889, 10.        ])"
      ]
     },
     "execution_count": 6,
     "metadata": {},
     "output_type": "execute_result"
    }
   ],
   "source": [
    "np.linspace(0,10,10)"
   ]
  },
  {
   "cell_type": "code",
   "execution_count": 7,
   "metadata": {},
   "outputs": [
    {
     "data": {
      "text/plain": [
       "28"
      ]
     },
     "execution_count": 7,
     "metadata": {},
     "output_type": "execute_result"
    }
   ],
   "source": [
    "np.random.randint(5,50)"
   ]
  },
  {
   "cell_type": "code",
   "execution_count": 15,
   "metadata": {},
   "outputs": [
    {
     "data": {
      "text/plain": [
       "35"
      ]
     },
     "execution_count": 15,
     "metadata": {},
     "output_type": "execute_result"
    }
   ],
   "source": [
    "## Random see to output the same random vaues at all run time \n",
    "import random\n",
    "\n",
    "random.seed(12)\n",
    "\n",
    "random.randint(5,50)"
   ]
  },
  {
   "cell_type": "code",
   "execution_count": 16,
   "metadata": {},
   "outputs": [],
   "source": [
    "array_2d = np.array([[1,2,3],[4,5,6],[7,8,9]])"
   ]
  },
  {
   "cell_type": "code",
   "execution_count": 24,
   "metadata": {},
   "outputs": [
    {
     "data": {
      "text/plain": [
       "array([1, 2, 3])"
      ]
     },
     "execution_count": 24,
     "metadata": {},
     "output_type": "execute_result"
    }
   ],
   "source": [
    "array_2d[0, :]"
   ]
  },
  {
   "cell_type": "code",
   "execution_count": 1,
   "metadata": {},
   "outputs": [],
   "source": [
    "import numpy as np\n",
    "np.random.seed(0) # seed for reproducibility\n",
    "x1 = np.random.randint(10, size=6) # One-dimensional array\n",
    "x2 = np.random.randint(10, size=(3, 4)) # Two-dimensional array\n",
    "x3 = np.random.randint(10, size=(3, 4, 5)) # Three-dimensional array"
   ]
  },
  {
   "cell_type": "code",
   "execution_count": 27,
   "metadata": {},
   "outputs": [],
   "source": [
    "a=np.random.randn(1,10).reshape(5,2).transpose()"
   ]
  },
  {
   "cell_type": "code",
   "execution_count": 28,
   "metadata": {},
   "outputs": [],
   "source": [
    "a[1]=5"
   ]
  },
  {
   "cell_type": "code",
   "execution_count": 29,
   "metadata": {},
   "outputs": [
    {
     "data": {
      "text/plain": [
       "array([[-0.87079715, -0.31155253, -1.16514984,  0.46566244,  1.48825219],\n",
       "       [ 5.        ,  5.        ,  5.        ,  5.        ,  5.        ]])"
      ]
     },
     "execution_count": 29,
     "metadata": {},
     "output_type": "execute_result"
    }
   ],
   "source": [
    "a"
   ]
  },
  {
   "cell_type": "code",
   "execution_count": 26,
   "metadata": {},
   "outputs": [
    {
     "data": {
      "text/plain": [
       "array([1, 2, 3, 4, 5, 6, 7, 8, 9])"
      ]
     },
     "execution_count": 26,
     "metadata": {},
     "output_type": "execute_result"
    }
   ],
   "source": [
    "np.arange(1,10)"
   ]
  },
  {
   "cell_type": "code",
   "execution_count": 31,
   "metadata": {},
   "outputs": [],
   "source": [
    "s1 = 'I am a Canadian'"
   ]
  },
  {
   "cell_type": "code",
   "execution_count": 47,
   "metadata": {},
   "outputs": [],
   "source": [
    "list1 = np.char.split(s1)"
   ]
  },
  {
   "cell_type": "markdown",
   "metadata": {},
   "source": [
    "Pandas"
   ]
  },
  {
   "cell_type": "code",
   "execution_count": 63,
   "metadata": {},
   "outputs": [],
   "source": [
    "import pandas as pd\n",
    "import numpy as np"
   ]
  },
  {
   "cell_type": "code",
   "execution_count": 50,
   "metadata": {},
   "outputs": [
    {
     "data": {
      "text/plain": [
       "'2.2.3'"
      ]
     },
     "execution_count": 50,
     "metadata": {},
     "output_type": "execute_result"
    }
   ],
   "source": [
    "pd.__version__"
   ]
  },
  {
   "cell_type": "code",
   "execution_count": 51,
   "metadata": {},
   "outputs": [],
   "source": [
    "lst = [1,2,3,4,5]\n",
    "series = pd.Series(lst)"
   ]
  },
  {
   "cell_type": "code",
   "execution_count": 52,
   "metadata": {},
   "outputs": [],
   "source": []
  },
  {
   "cell_type": "code",
   "execution_count": 54,
   "metadata": {},
   "outputs": [
    {
     "name": "stdout",
     "output_type": "stream",
     "text": [
      "0    1\n",
      "1    2\n",
      "2    3\n",
      "3    4\n",
      "4    5\n",
      "dtype: int64\n",
      "<class 'pandas.core.series.Series'>\n"
     ]
    }
   ],
   "source": [
    "print(series)\n",
    "print(type(series))"
   ]
  },
  {
   "cell_type": "code",
   "execution_count": 70,
   "metadata": {},
   "outputs": [
    {
     "data": {
      "text/plain": [
       "5"
      ]
     },
     "execution_count": 70,
     "metadata": {},
     "output_type": "execute_result"
    }
   ],
   "source": [
    "idx = len(np.arange(1,10, 2))\n",
    "idx"
   ]
  },
  {
   "cell_type": "code",
   "execution_count": 137,
   "metadata": {},
   "outputs": [
    {
     "data": {
      "text/plain": [
       "a    0.072434\n",
       "b    0.019301\n",
       "c    0.979573\n",
       "Name: test, dtype: float64"
      ]
     },
     "execution_count": 137,
     "metadata": {},
     "output_type": "execute_result"
    }
   ],
   "source": [
    "a = np.random.random(3)\n",
    "b = pd.Series(a, index = ['a', 'b', 'c'], name=\"test\")\n",
    "b"
   ]
  },
  {
   "cell_type": "code",
   "execution_count": 139,
   "metadata": {},
   "outputs": [
    {
     "data": {
      "text/plain": [
       "'test'"
      ]
     },
     "execution_count": 139,
     "metadata": {},
     "output_type": "execute_result"
    }
   ],
   "source": [
    "b.name"
   ]
  },
  {
   "cell_type": "code",
   "execution_count": 115,
   "metadata": {},
   "outputs": [
    {
     "data": {
      "text/plain": [
       "[1, 2, 3, 4, 5, 6]"
      ]
     },
     "execution_count": 115,
     "metadata": {},
     "output_type": "execute_result"
    }
   ],
   "source": [
    "dict_series = pd.Series({'p': [1,2,3], 'q': [4,5,6]})\n",
    "m = dict_series['p'] + dict_series['q']\n",
    "m"
   ]
  },
  {
   "cell_type": "code",
   "execution_count": 110,
   "metadata": {},
   "outputs": [
    {
     "data": {
      "text/plain": [
       "array([[19, 17,  7, 17, 14],\n",
       "       [ 3, 10, 10,  1, 16],\n",
       "       [10, 18, 16,  2,  6],\n",
       "       [ 9,  2, 12,  9,  4]])"
      ]
     },
     "execution_count": 110,
     "metadata": {},
     "output_type": "execute_result"
    }
   ],
   "source": [
    "#arr = np.random.randn(20).reshape(4,5)\n",
    "arr = np.random.randint(20, size=(4,5))\n",
    "arr"
   ]
  },
  {
   "cell_type": "code",
   "execution_count": 120,
   "metadata": {},
   "outputs": [
    {
     "data": {
      "text/plain": [
       "array([ 3, 10, 10,  1,  4])"
      ]
     },
     "execution_count": 120,
     "metadata": {},
     "output_type": "execute_result"
    }
   ],
   "source": [
    "arr[1]%arr[2]"
   ]
  },
  {
   "cell_type": "markdown",
   "metadata": {},
   "source": [
    "Pandas DataFrame"
   ]
  },
  {
   "cell_type": "code",
   "execution_count": 356,
   "metadata": {},
   "outputs": [
    {
     "name": "stdout",
     "output_type": "stream",
     "text": [
      "2\n",
      "4\n"
     ]
    }
   ],
   "source": [
    "#df = pd.DataFrame(lst)\n",
    "a = [{'a': 5, 'b': 6, 'c': 12},\n",
    "      {'a': 54, 'b': 3, 'c': 1}]\n",
    "df = pd.DataFrame(a)\n",
    "df['d'] = [6,34]\n",
    "print(df.shape[0])\n",
    "print(df.shape[1])"
   ]
  },
  {
   "cell_type": "code",
   "execution_count": 136,
   "metadata": {},
   "outputs": [
    {
     "data": {
      "text/plain": [
       "0    60\n",
       "1    54\n",
       "dtype: int64"
      ]
     },
     "execution_count": 136,
     "metadata": {},
     "output_type": "execute_result"
    }
   ],
   "source": [
    "df['a']*df['c']"
   ]
  },
  {
   "cell_type": "code",
   "execution_count": 145,
   "metadata": {},
   "outputs": [
    {
     "data": {
      "text/html": [
       "<div>\n",
       "<style scoped>\n",
       "    .dataframe tbody tr th:only-of-type {\n",
       "        vertical-align: middle;\n",
       "    }\n",
       "\n",
       "    .dataframe tbody tr th {\n",
       "        vertical-align: top;\n",
       "    }\n",
       "\n",
       "    .dataframe thead th {\n",
       "        text-align: right;\n",
       "    }\n",
       "</style>\n",
       "<table border=\"1\" class=\"dataframe\">\n",
       "  <thead>\n",
       "    <tr style=\"text-align: right;\">\n",
       "      <th></th>\n",
       "      <th>test</th>\n",
       "    </tr>\n",
       "  </thead>\n",
       "  <tbody>\n",
       "    <tr>\n",
       "      <th>a</th>\n",
       "      <td>1</td>\n",
       "    </tr>\n",
       "    <tr>\n",
       "      <th>b</th>\n",
       "      <td>2</td>\n",
       "    </tr>\n",
       "    <tr>\n",
       "      <th>c</th>\n",
       "      <td>3</td>\n",
       "    </tr>\n",
       "    <tr>\n",
       "      <th>d</th>\n",
       "      <td>4</td>\n",
       "    </tr>\n",
       "    <tr>\n",
       "      <th>e</th>\n",
       "      <td>5</td>\n",
       "    </tr>\n",
       "  </tbody>\n",
       "</table>\n",
       "</div>"
      ],
      "text/plain": [
       "   test\n",
       "a     1\n",
       "b     2\n",
       "c     3\n",
       "d     4\n",
       "e     5"
      ]
     },
     "execution_count": 145,
     "metadata": {},
     "output_type": "execute_result"
    }
   ],
   "source": [
    "df=pd.DataFrame({'test': lst}, index=['a', 'b', 'c', 'd', 'e'])\n",
    "df"
   ]
  },
  {
   "cell_type": "code",
   "execution_count": 143,
   "metadata": {},
   "outputs": [
    {
     "data": {
      "text/plain": [
       "a    0.072434\n",
       "b    0.019301\n",
       "c    0.979573\n",
       "Name: test, dtype: float64"
      ]
     },
     "execution_count": 143,
     "metadata": {},
     "output_type": "execute_result"
    }
   ],
   "source": [
    "b"
   ]
  },
  {
   "cell_type": "code",
   "execution_count": 144,
   "metadata": {},
   "outputs": [
    {
     "data": {
      "text/html": [
       "<div>\n",
       "<style scoped>\n",
       "    .dataframe tbody tr th:only-of-type {\n",
       "        vertical-align: middle;\n",
       "    }\n",
       "\n",
       "    .dataframe tbody tr th {\n",
       "        vertical-align: top;\n",
       "    }\n",
       "\n",
       "    .dataframe thead th {\n",
       "        text-align: right;\n",
       "    }\n",
       "</style>\n",
       "<table border=\"1\" class=\"dataframe\">\n",
       "  <thead>\n",
       "    <tr style=\"text-align: right;\">\n",
       "      <th></th>\n",
       "      <th>test</th>\n",
       "    </tr>\n",
       "  </thead>\n",
       "  <tbody>\n",
       "    <tr>\n",
       "      <th>a</th>\n",
       "      <td>0.072434</td>\n",
       "    </tr>\n",
       "    <tr>\n",
       "      <th>b</th>\n",
       "      <td>0.019301</td>\n",
       "    </tr>\n",
       "    <tr>\n",
       "      <th>c</th>\n",
       "      <td>0.979573</td>\n",
       "    </tr>\n",
       "  </tbody>\n",
       "</table>\n",
       "</div>"
      ],
      "text/plain": [
       "       test\n",
       "a  0.072434\n",
       "b  0.019301\n",
       "c  0.979573"
      ]
     },
     "execution_count": 144,
     "metadata": {},
     "output_type": "execute_result"
    }
   ],
   "source": [
    "df_series = pd.DataFrame(b)\n",
    "df_series"
   ]
  },
  {
   "cell_type": "markdown",
   "metadata": {},
   "source": [
    "Key Differences Between Using a List vs. a Series in a DataFrame\n",
    "Feature\t        List\t                    Pandas Series\n",
    "Type\t        Basic Python List\t        Pandas Series Object\n",
    "Column Name\t    Needs to be explicitly set\tAutomatically becomes the column name in DataFrame\n",
    "Index Handling\tUses default integer index\tUses the index from Series\n",
    "Data Types\t    Mixed types allowed\t        Maintains a consistent dtype\n",
    "Operations\t    Limited for lists\t        Supports vectorized operations (e.g., .mean(), .sum())"
   ]
  },
  {
   "cell_type": "code",
   "execution_count": 247,
   "metadata": {},
   "outputs": [
    {
     "name": "stdout",
     "output_type": "stream",
     "text": [
      "  Category  Actual  Price\n",
      "1        A   200.0     12\n",
      "2        B   300.0     45\n",
      "3        C   400.0     66\n",
      "4        D   500.0     54\n",
      "  Category  Actual  Price\n",
      "1        A   200.0     12\n",
      "2        B   300.0     45\n",
      "3        C   400.0     66\n",
      "4        D   500.0     54\n",
      "5        E     NaN     68\n",
      "  Category  Actual  Price\n",
      "1        A   200.0     12\n",
      "2        B   300.0     45\n",
      "3        C   400.0     66\n",
      "4        D   500.0     54\n",
      "5        E     NaN     68\n",
      "  Category  Actual  Price\n",
      "1        A   200.0     12\n",
      "2        B   300.0     45\n",
      "3        C   500.0     66\n",
      "4        D   500.0     54\n",
      "5        E     NaN     68\n",
      "<class 'pandas.core.frame.DataFrame'>\n"
     ]
    },
    {
     "name": "stderr",
     "output_type": "stream",
     "text": [
      "C:\\Users\\micha\\AppData\\Local\\Temp\\ipykernel_23616\\3967346632.py:17: FutureWarning: DataFrame.fillna with 'method' is deprecated and will raise in a future version. Use obj.ffill() or obj.bfill() instead.\n",
      "  df_actual_fill = df_actual.fillna(method='bfill', inplace=False)\n",
      "C:\\Users\\micha\\AppData\\Local\\Temp\\ipykernel_23616\\3967346632.py:22: FutureWarning: The 'method' keyword in DataFrame.replace is deprecated and will be removed in a future version.\n",
      "  df_replaced = df_actual_fill.replace(to_replace=400, method='bfill', inplace=False)\n"
     ]
    }
   ],
   "source": [
    "df_actual = pd.DataFrame({\n",
    "    'Category': ['A', 'B', 'C', 'D', 'E'],\n",
    "    \"Actual\": pd.Series([100, 200, 300, 400, 500], name = 'Actual_Sales'),\n",
    "#    \"Actual\": [100, 200, 300, , 500],\n",
    "    \"Price\": [12,45,66,54,68]\n",
    "    }\n",
    ", index = [1,2,3,4,5]\n",
    ")\n",
    "#df_actual.isnull()\n",
    "#df_actual.isnull().sum()\n",
    "#df_actual.isnull().sum().sum()\n",
    "df_actual_no_null = df_actual.dropna(inplace=False)\n",
    "print(df_actual_no_null)\n",
    "print(df_actual)\n",
    "#df_actual_fill = df_actual.fillna({'Category': 'none', 'Actual': 123, 'Price': 100}, inplace=False)\n",
    "#df_actual_fill = df_actual.fillna(method='ffill', inplace=False)\n",
    "df_actual_fill = df_actual.fillna(method='bfill', inplace=False)\n",
    "#df_actual_fill = df_actual.fillna(value=df_actual['Actual'].mean(), inplace=False)\n",
    "print(df_actual_fill)\n",
    "#df_replaced = df_actual_fill.replace(to_replace=[45,66], value=[999,888], inplace=False)\n",
    "#df_replaced = df_actual_fill.replace('[A-Za-z]', 0, regex = True, inplace=False)\n",
    "df_replaced = df_actual_fill.replace(to_replace=400, method='bfill', inplace=False)\n",
    "print(df_replaced)\n",
    "print(type(df_replaced))"
   ]
  },
  {
   "cell_type": "code",
   "execution_count": 173,
   "metadata": {},
   "outputs": [
    {
     "data": {
      "text/html": [
       "<div>\n",
       "<style scoped>\n",
       "    .dataframe tbody tr th:only-of-type {\n",
       "        vertical-align: middle;\n",
       "    }\n",
       "\n",
       "    .dataframe tbody tr th {\n",
       "        vertical-align: top;\n",
       "    }\n",
       "\n",
       "    .dataframe thead th {\n",
       "        text-align: right;\n",
       "    }\n",
       "</style>\n",
       "<table border=\"1\" class=\"dataframe\">\n",
       "  <thead>\n",
       "    <tr style=\"text-align: right;\">\n",
       "      <th></th>\n",
       "      <th>Category</th>\n",
       "      <th>Planned</th>\n",
       "    </tr>\n",
       "  </thead>\n",
       "  <tbody>\n",
       "    <tr>\n",
       "      <th>1</th>\n",
       "      <td>A</td>\n",
       "      <td>500.0</td>\n",
       "    </tr>\n",
       "    <tr>\n",
       "      <th>2</th>\n",
       "      <td>B</td>\n",
       "      <td>600.0</td>\n",
       "    </tr>\n",
       "    <tr>\n",
       "      <th>3</th>\n",
       "      <td>C</td>\n",
       "      <td>700.0</td>\n",
       "    </tr>\n",
       "    <tr>\n",
       "      <th>4</th>\n",
       "      <td>D</td>\n",
       "      <td>NaN</td>\n",
       "    </tr>\n",
       "  </tbody>\n",
       "</table>\n",
       "</div>"
      ],
      "text/plain": [
       "  Category  Planned\n",
       "1        A    500.0\n",
       "2        B    600.0\n",
       "3        C    700.0\n",
       "4        D      NaN"
      ]
     },
     "execution_count": 173,
     "metadata": {},
     "output_type": "execute_result"
    }
   ],
   "source": [
    "df_planned = pd.DataFrame({\n",
    "    'Category': ['A', 'B', 'C', 'D'],\n",
    "    \"Planned\": pd.Series([400, 500, 600, 700], name = 'PLanned_Sales')\n",
    "}\n",
    ", index = [1,2,3,4]\n",
    ")\n",
    "df_planned"
   ]
  },
  {
   "cell_type": "markdown",
   "metadata": {},
   "source": [
    "loc: Reference to the 'index' column. iloc: Reference to the underlining index starting from 0 and increasing by 1."
   ]
  },
  {
   "cell_type": "code",
   "execution_count": 277,
   "metadata": {},
   "outputs": [
    {
     "name": "stdout",
     "output_type": "stream",
     "text": [
      "  Category  New\n",
      "a        A  400\n",
      "b        B  500\n",
      "c        C  600\n",
      "d        D  700\n",
      "b    500\n",
      "c    600\n",
      "d    700\n",
      "Name: New, dtype: int64\n",
      "  Category  New\n",
      "b        B  500\n",
      "c        C  600\n",
      "b    500\n",
      "c    600\n",
      "Name: New, dtype: int64\n"
     ]
    }
   ],
   "source": [
    "df_new = pd.DataFrame({\n",
    "    'Category': ['A', 'B', 'C', 'D'],\n",
    "    \"New\": [400, 500, 600, 700],\n",
    "}\n",
    ", index = pd.Series(['a', 'b', 'c', 'd'])\n",
    ")\n",
    "print(df_new)\n",
    "print(df_new.loc['b':'d', 'New'])\n",
    "print(df_new.iloc[[1,2]])\n",
    "print(df_new.iloc[1:3,1])"
   ]
  },
  {
   "cell_type": "code",
   "execution_count": 161,
   "metadata": {},
   "outputs": [
    {
     "data": {
      "text/html": [
       "<div>\n",
       "<style scoped>\n",
       "    .dataframe tbody tr th:only-of-type {\n",
       "        vertical-align: middle;\n",
       "    }\n",
       "\n",
       "    .dataframe tbody tr th {\n",
       "        vertical-align: top;\n",
       "    }\n",
       "\n",
       "    .dataframe thead th {\n",
       "        text-align: right;\n",
       "    }\n",
       "</style>\n",
       "<table border=\"1\" class=\"dataframe\">\n",
       "  <thead>\n",
       "    <tr style=\"text-align: right;\">\n",
       "      <th></th>\n",
       "      <th>Category</th>\n",
       "      <th>Actual</th>\n",
       "      <th>Planned</th>\n",
       "    </tr>\n",
       "  </thead>\n",
       "  <tbody>\n",
       "    <tr>\n",
       "      <th>0</th>\n",
       "      <td>A</td>\n",
       "      <td>100</td>\n",
       "      <td>400</td>\n",
       "    </tr>\n",
       "    <tr>\n",
       "      <th>1</th>\n",
       "      <td>B</td>\n",
       "      <td>200</td>\n",
       "      <td>500</td>\n",
       "    </tr>\n",
       "    <tr>\n",
       "      <th>2</th>\n",
       "      <td>C</td>\n",
       "      <td>300</td>\n",
       "      <td>600</td>\n",
       "    </tr>\n",
       "  </tbody>\n",
       "</table>\n",
       "</div>"
      ],
      "text/plain": [
       "  Category  Actual  Planned\n",
       "0        A     100      400\n",
       "1        B     200      500\n",
       "2        C     300      600"
      ]
     },
     "execution_count": 161,
     "metadata": {},
     "output_type": "execute_result"
    }
   ],
   "source": [
    "df_combined = df_actual.merge(df_planned, on = 'Category')\n",
    "df_combined"
   ]
  },
  {
   "cell_type": "code",
   "execution_count": 285,
   "metadata": {},
   "outputs": [
    {
     "name": "stdout",
     "output_type": "stream",
     "text": [
      "<class 'pandas.core.frame.DataFrame'>\n",
      "Index: 1728 entries, 2 to 5more\n",
      "Data columns (total 6 columns):\n",
      " #   Column    Non-Null Count  Dtype \n",
      "---  ------    --------------  ----- \n",
      " 0   buying    1728 non-null   object\n",
      " 1   maint     1728 non-null   object\n",
      " 2   persons   1728 non-null   object\n",
      " 3   lug_boot  1728 non-null   object\n",
      " 4   safety    1728 non-null   object\n",
      " 5   class     1728 non-null   object\n",
      "dtypes: object(6)\n",
      "memory usage: 94.5+ KB\n"
     ]
    }
   ],
   "source": [
    "df_car = pd.read_csv('dataset_21_car.csv'\n",
    "                     , index_col=['doors']\n",
    ")\n",
    "df_car.head(5)\n",
    "df_car.info()"
   ]
  },
  {
   "cell_type": "code",
   "execution_count": 263,
   "metadata": {},
   "outputs": [
    {
     "data": {
      "text/html": [
       "<div>\n",
       "<style scoped>\n",
       "    .dataframe tbody tr th:only-of-type {\n",
       "        vertical-align: middle;\n",
       "    }\n",
       "\n",
       "    .dataframe tbody tr th {\n",
       "        vertical-align: top;\n",
       "    }\n",
       "\n",
       "    .dataframe thead th {\n",
       "        text-align: right;\n",
       "    }\n",
       "</style>\n",
       "<table border=\"1\" class=\"dataframe\">\n",
       "  <thead>\n",
       "    <tr style=\"text-align: right;\">\n",
       "      <th></th>\n",
       "      <th>buying</th>\n",
       "      <th>maint</th>\n",
       "      <th>persons</th>\n",
       "      <th>lug_boot</th>\n",
       "      <th>safety</th>\n",
       "      <th>class</th>\n",
       "    </tr>\n",
       "    <tr>\n",
       "      <th>doors</th>\n",
       "      <th></th>\n",
       "      <th></th>\n",
       "      <th></th>\n",
       "      <th></th>\n",
       "      <th></th>\n",
       "      <th></th>\n",
       "    </tr>\n",
       "  </thead>\n",
       "  <tbody>\n",
       "    <tr>\n",
       "      <th>2</th>\n",
       "      <td>vhigh</td>\n",
       "      <td>vhigh</td>\n",
       "      <td>2</td>\n",
       "      <td>small</td>\n",
       "      <td>low</td>\n",
       "      <td>unacc</td>\n",
       "    </tr>\n",
       "    <tr>\n",
       "      <th>2</th>\n",
       "      <td>vhigh</td>\n",
       "      <td>vhigh</td>\n",
       "      <td>2</td>\n",
       "      <td>small</td>\n",
       "      <td>med</td>\n",
       "      <td>unacc</td>\n",
       "    </tr>\n",
       "    <tr>\n",
       "      <th>2</th>\n",
       "      <td>vhigh</td>\n",
       "      <td>vhigh</td>\n",
       "      <td>2</td>\n",
       "      <td>small</td>\n",
       "      <td>high</td>\n",
       "      <td>unacc</td>\n",
       "    </tr>\n",
       "    <tr>\n",
       "      <th>2</th>\n",
       "      <td>vhigh</td>\n",
       "      <td>vhigh</td>\n",
       "      <td>2</td>\n",
       "      <td>med</td>\n",
       "      <td>low</td>\n",
       "      <td>unacc</td>\n",
       "    </tr>\n",
       "    <tr>\n",
       "      <th>2</th>\n",
       "      <td>vhigh</td>\n",
       "      <td>vhigh</td>\n",
       "      <td>2</td>\n",
       "      <td>med</td>\n",
       "      <td>med</td>\n",
       "      <td>unacc</td>\n",
       "    </tr>\n",
       "    <tr>\n",
       "      <th>...</th>\n",
       "      <td>...</td>\n",
       "      <td>...</td>\n",
       "      <td>...</td>\n",
       "      <td>...</td>\n",
       "      <td>...</td>\n",
       "      <td>...</td>\n",
       "    </tr>\n",
       "    <tr>\n",
       "      <th>5more</th>\n",
       "      <td>low</td>\n",
       "      <td>low</td>\n",
       "      <td>more</td>\n",
       "      <td>med</td>\n",
       "      <td>med</td>\n",
       "      <td>good</td>\n",
       "    </tr>\n",
       "    <tr>\n",
       "      <th>5more</th>\n",
       "      <td>low</td>\n",
       "      <td>low</td>\n",
       "      <td>more</td>\n",
       "      <td>med</td>\n",
       "      <td>high</td>\n",
       "      <td>vgood</td>\n",
       "    </tr>\n",
       "    <tr>\n",
       "      <th>5more</th>\n",
       "      <td>low</td>\n",
       "      <td>low</td>\n",
       "      <td>more</td>\n",
       "      <td>big</td>\n",
       "      <td>low</td>\n",
       "      <td>unacc</td>\n",
       "    </tr>\n",
       "    <tr>\n",
       "      <th>5more</th>\n",
       "      <td>low</td>\n",
       "      <td>low</td>\n",
       "      <td>more</td>\n",
       "      <td>big</td>\n",
       "      <td>med</td>\n",
       "      <td>good</td>\n",
       "    </tr>\n",
       "    <tr>\n",
       "      <th>5more</th>\n",
       "      <td>low</td>\n",
       "      <td>low</td>\n",
       "      <td>more</td>\n",
       "      <td>big</td>\n",
       "      <td>high</td>\n",
       "      <td>vgood</td>\n",
       "    </tr>\n",
       "  </tbody>\n",
       "</table>\n",
       "<p>864 rows × 6 columns</p>\n",
       "</div>"
      ],
      "text/plain": [
       "      buying  maint persons lug_boot safety  class\n",
       "doors                                             \n",
       "2      vhigh  vhigh       2    small    low  unacc\n",
       "2      vhigh  vhigh       2    small    med  unacc\n",
       "2      vhigh  vhigh       2    small   high  unacc\n",
       "2      vhigh  vhigh       2      med    low  unacc\n",
       "2      vhigh  vhigh       2      med    med  unacc\n",
       "...      ...    ...     ...      ...    ...    ...\n",
       "5more    low    low    more      med    med   good\n",
       "5more    low    low    more      med   high  vgood\n",
       "5more    low    low    more      big    low  unacc\n",
       "5more    low    low    more      big    med   good\n",
       "5more    low    low    more      big   high  vgood\n",
       "\n",
       "[864 rows x 6 columns]"
      ]
     },
     "execution_count": 263,
     "metadata": {},
     "output_type": "execute_result"
    }
   ],
   "source": [
    "df_car.loc[['2', '5more']]"
   ]
  },
  {
   "cell_type": "code",
   "execution_count": 273,
   "metadata": {},
   "outputs": [
    {
     "data": {
      "text/html": [
       "<div>\n",
       "<style scoped>\n",
       "    .dataframe tbody tr th:only-of-type {\n",
       "        vertical-align: middle;\n",
       "    }\n",
       "\n",
       "    .dataframe tbody tr th {\n",
       "        vertical-align: top;\n",
       "    }\n",
       "\n",
       "    .dataframe thead th {\n",
       "        text-align: right;\n",
       "    }\n",
       "</style>\n",
       "<table border=\"1\" class=\"dataframe\">\n",
       "  <thead>\n",
       "    <tr style=\"text-align: right;\">\n",
       "      <th></th>\n",
       "      <th>buying</th>\n",
       "      <th>class</th>\n",
       "    </tr>\n",
       "    <tr>\n",
       "      <th>doors</th>\n",
       "      <th></th>\n",
       "      <th></th>\n",
       "    </tr>\n",
       "  </thead>\n",
       "  <tbody>\n",
       "    <tr>\n",
       "      <th>2</th>\n",
       "      <td>vhigh</td>\n",
       "      <td>unacc</td>\n",
       "    </tr>\n",
       "    <tr>\n",
       "      <th>2</th>\n",
       "      <td>vhigh</td>\n",
       "      <td>unacc</td>\n",
       "    </tr>\n",
       "    <tr>\n",
       "      <th>2</th>\n",
       "      <td>vhigh</td>\n",
       "      <td>unacc</td>\n",
       "    </tr>\n",
       "    <tr>\n",
       "      <th>2</th>\n",
       "      <td>vhigh</td>\n",
       "      <td>unacc</td>\n",
       "    </tr>\n",
       "    <tr>\n",
       "      <th>2</th>\n",
       "      <td>vhigh</td>\n",
       "      <td>unacc</td>\n",
       "    </tr>\n",
       "    <tr>\n",
       "      <th>...</th>\n",
       "      <td>...</td>\n",
       "      <td>...</td>\n",
       "    </tr>\n",
       "    <tr>\n",
       "      <th>5more</th>\n",
       "      <td>low</td>\n",
       "      <td>unacc</td>\n",
       "    </tr>\n",
       "    <tr>\n",
       "      <th>5more</th>\n",
       "      <td>low</td>\n",
       "      <td>unacc</td>\n",
       "    </tr>\n",
       "    <tr>\n",
       "      <th>5more</th>\n",
       "      <td>low</td>\n",
       "      <td>unacc</td>\n",
       "    </tr>\n",
       "    <tr>\n",
       "      <th>5more</th>\n",
       "      <td>low</td>\n",
       "      <td>unacc</td>\n",
       "    </tr>\n",
       "    <tr>\n",
       "      <th>5more</th>\n",
       "      <td>low</td>\n",
       "      <td>unacc</td>\n",
       "    </tr>\n",
       "  </tbody>\n",
       "</table>\n",
       "<p>576 rows × 2 columns</p>\n",
       "</div>"
      ],
      "text/plain": [
       "      buying  class\n",
       "doors              \n",
       "2      vhigh  unacc\n",
       "2      vhigh  unacc\n",
       "2      vhigh  unacc\n",
       "2      vhigh  unacc\n",
       "2      vhigh  unacc\n",
       "...      ...    ...\n",
       "5more    low  unacc\n",
       "5more    low  unacc\n",
       "5more    low  unacc\n",
       "5more    low  unacc\n",
       "5more    low  unacc\n",
       "\n",
       "[576 rows x 2 columns]"
      ]
     },
     "execution_count": 273,
     "metadata": {},
     "output_type": "execute_result"
    }
   ],
   "source": [
    "df_car.loc[df_car['safety'] == 'low', ['buying', 'class']]"
   ]
  },
  {
   "cell_type": "code",
   "execution_count": 286,
   "metadata": {},
   "outputs": [
    {
     "name": "stdout",
     "output_type": "stream",
     "text": [
      "{('2', 'high'): ['2', '2', '2', '3', '3', '3', '4', '4', '4', '5more', '5more', '5more', '2', '2', '2', '3', '3', '3', '4', '4', '4', '5more', '5more', '5more', '2', '2', '2', '3', '3', '3', '4', '4', '4', '5more', '5more', '5more', '2', '2', '2', '3', '3', '3', '4', '4', '4', '5more', '5more', '5more', '2', '2', '2', '3', '3', '3', '4', '4', '4', '5more', '5more', '5more', '2', '2', '2', '3', '3', '3', '4', '4', '4', '5more', '5more', '5more', '2', '2', '2', '3', '3', '3', '4', '4', '4', '5more', '5more', '5more', '2', '2', '2', '3', '3', '3', '4', '4', '4', '5more', '5more', '5more', '2', '2', '2', '3', ...], ('2', 'low'): ['2', '2', '2', '3', '3', '3', '4', '4', '4', '5more', '5more', '5more', '2', '2', '2', '3', '3', '3', '4', '4', '4', '5more', '5more', '5more', '2', '2', '2', '3', '3', '3', '4', '4', '4', '5more', '5more', '5more', '2', '2', '2', '3', '3', '3', '4', '4', '4', '5more', '5more', '5more', '2', '2', '2', '3', '3', '3', '4', '4', '4', '5more', '5more', '5more', '2', '2', '2', '3', '3', '3', '4', '4', '4', '5more', '5more', '5more', '2', '2', '2', '3', '3', '3', '4', '4', '4', '5more', '5more', '5more', '2', '2', '2', '3', '3', '3', '4', '4', '4', '5more', '5more', '5more', '2', '2', '2', '3', ...], ('2', 'med'): ['2', '2', '2', '3', '3', '3', '4', '4', '4', '5more', '5more', '5more', '2', '2', '2', '3', '3', '3', '4', '4', '4', '5more', '5more', '5more', '2', '2', '2', '3', '3', '3', '4', '4', '4', '5more', '5more', '5more', '2', '2', '2', '3', '3', '3', '4', '4', '4', '5more', '5more', '5more', '2', '2', '2', '3', '3', '3', '4', '4', '4', '5more', '5more', '5more', '2', '2', '2', '3', '3', '3', '4', '4', '4', '5more', '5more', '5more', '2', '2', '2', '3', '3', '3', '4', '4', '4', '5more', '5more', '5more', '2', '2', '2', '3', '3', '3', '4', '4', '4', '5more', '5more', '5more', '2', '2', '2', '3', ...], ('4', 'high'): ['2', '2', '2', '3', '3', '3', '4', '4', '4', '5more', '5more', '5more', '2', '2', '2', '3', '3', '3', '4', '4', '4', '5more', '5more', '5more', '2', '2', '2', '3', '3', '3', '4', '4', '4', '5more', '5more', '5more', '2', '2', '2', '3', '3', '3', '4', '4', '4', '5more', '5more', '5more', '2', '2', '2', '3', '3', '3', '4', '4', '4', '5more', '5more', '5more', '2', '2', '2', '3', '3', '3', '4', '4', '4', '5more', '5more', '5more', '2', '2', '2', '3', '3', '3', '4', '4', '4', '5more', '5more', '5more', '2', '2', '2', '3', '3', '3', '4', '4', '4', '5more', '5more', '5more', '2', '2', '2', '3', ...], ('4', 'low'): ['2', '2', '2', '3', '3', '3', '4', '4', '4', '5more', '5more', '5more', '2', '2', '2', '3', '3', '3', '4', '4', '4', '5more', '5more', '5more', '2', '2', '2', '3', '3', '3', '4', '4', '4', '5more', '5more', '5more', '2', '2', '2', '3', '3', '3', '4', '4', '4', '5more', '5more', '5more', '2', '2', '2', '3', '3', '3', '4', '4', '4', '5more', '5more', '5more', '2', '2', '2', '3', '3', '3', '4', '4', '4', '5more', '5more', '5more', '2', '2', '2', '3', '3', '3', '4', '4', '4', '5more', '5more', '5more', '2', '2', '2', '3', '3', '3', '4', '4', '4', '5more', '5more', '5more', '2', '2', '2', '3', ...], ('4', 'med'): ['2', '2', '2', '3', '3', '3', '4', '4', '4', '5more', '5more', '5more', '2', '2', '2', '3', '3', '3', '4', '4', '4', '5more', '5more', '5more', '2', '2', '2', '3', '3', '3', '4', '4', '4', '5more', '5more', '5more', '2', '2', '2', '3', '3', '3', '4', '4', '4', '5more', '5more', '5more', '2', '2', '2', '3', '3', '3', '4', '4', '4', '5more', '5more', '5more', '2', '2', '2', '3', '3', '3', '4', '4', '4', '5more', '5more', '5more', '2', '2', '2', '3', '3', '3', '4', '4', '4', '5more', '5more', '5more', '2', '2', '2', '3', '3', '3', '4', '4', '4', '5more', '5more', '5more', '2', '2', '2', '3', ...], ('more', 'high'): ['2', '2', '2', '3', '3', '3', '4', '4', '4', '5more', '5more', '5more', '2', '2', '2', '3', '3', '3', '4', '4', '4', '5more', '5more', '5more', '2', '2', '2', '3', '3', '3', '4', '4', '4', '5more', '5more', '5more', '2', '2', '2', '3', '3', '3', '4', '4', '4', '5more', '5more', '5more', '2', '2', '2', '3', '3', '3', '4', '4', '4', '5more', '5more', '5more', '2', '2', '2', '3', '3', '3', '4', '4', '4', '5more', '5more', '5more', '2', '2', '2', '3', '3', '3', '4', '4', '4', '5more', '5more', '5more', '2', '2', '2', '3', '3', '3', '4', '4', '4', '5more', '5more', '5more', '2', '2', '2', '3', ...], ('more', 'low'): ['2', '2', '2', '3', '3', '3', '4', '4', '4', '5more', '5more', '5more', '2', '2', '2', '3', '3', '3', '4', '4', '4', '5more', '5more', '5more', '2', '2', '2', '3', '3', '3', '4', '4', '4', '5more', '5more', '5more', '2', '2', '2', '3', '3', '3', '4', '4', '4', '5more', '5more', '5more', '2', '2', '2', '3', '3', '3', '4', '4', '4', '5more', '5more', '5more', '2', '2', '2', '3', '3', '3', '4', '4', '4', '5more', '5more', '5more', '2', '2', '2', '3', '3', '3', '4', '4', '4', '5more', '5more', '5more', '2', '2', '2', '3', '3', '3', '4', '4', '4', '5more', '5more', '5more', '2', '2', '2', '3', ...], ('more', 'med'): ['2', '2', '2', '3', '3', '3', '4', '4', '4', '5more', '5more', '5more', '2', '2', '2', '3', '3', '3', '4', '4', '4', '5more', '5more', '5more', '2', '2', '2', '3', '3', '3', '4', '4', '4', '5more', '5more', '5more', '2', '2', '2', '3', '3', '3', '4', '4', '4', '5more', '5more', '5more', '2', '2', '2', '3', '3', '3', '4', '4', '4', '5more', '5more', '5more', '2', '2', '2', '3', '3', '3', '4', '4', '4', '5more', '5more', '5more', '2', '2', '2', '3', '3', '3', '4', '4', '4', '5more', '5more', '5more', '2', '2', '2', '3', '3', '3', '4', '4', '4', '5more', '5more', '5more', '2', '2', '2', '3', ...]}\n"
     ]
    }
   ],
   "source": [
    "df_car_grp = df_car.groupby(by = ['persons', 'safety'])\n",
    "#print(df_car_grp.groups['high'])\n",
    "print(df_car_grp.groups)"
   ]
  },
  {
   "cell_type": "code",
   "execution_count": 287,
   "metadata": {},
   "outputs": [
    {
     "name": "stdout",
     "output_type": "stream",
     "text": [
      "2\n",
      "high\n",
      "2\n",
      "low\n",
      "2\n",
      "med\n",
      "4\n",
      "high\n",
      "4\n",
      "low\n",
      "4\n",
      "med\n",
      "more\n",
      "high\n",
      "more\n",
      "low\n",
      "more\n",
      "med\n"
     ]
    }
   ],
   "source": [
    "for group, data_frame in df_car_grp.groups:\n",
    "    print(group)\n",
    "    print(data_frame)"
   ]
  },
  {
   "cell_type": "code",
   "execution_count": 189,
   "metadata": {},
   "outputs": [
    {
     "name": "stdout",
     "output_type": "stream",
     "text": [
      "<class 'pandas.core.frame.DataFrame'>\n",
      "RangeIndex: 1728 entries, 0 to 1727\n",
      "Data columns (total 7 columns):\n",
      " #   Column    Non-Null Count  Dtype \n",
      "---  ------    --------------  ----- \n",
      " 0   buying    1728 non-null   object\n",
      " 1   maint     1728 non-null   object\n",
      " 2   doors     1728 non-null   object\n",
      " 3   persons   1728 non-null   object\n",
      " 4   lug_boot  1728 non-null   object\n",
      " 5   safety    1728 non-null   object\n",
      " 6   class     1728 non-null   object\n",
      "dtypes: object(7)\n",
      "memory usage: 94.6+ KB\n"
     ]
    }
   ],
   "source": [
    "type(df_car)\n",
    "df_car.columns\n",
    "df_car.shape\n",
    "df_car.size\n",
    "df_car.describe()\n",
    "df_car.info()"
   ]
  },
  {
   "cell_type": "code",
   "execution_count": 337,
   "metadata": {},
   "outputs": [
    {
     "data": {
      "text/html": [
       "<div>\n",
       "<style scoped>\n",
       "    .dataframe tbody tr th:only-of-type {\n",
       "        vertical-align: middle;\n",
       "    }\n",
       "\n",
       "    .dataframe tbody tr th {\n",
       "        vertical-align: top;\n",
       "    }\n",
       "\n",
       "    .dataframe thead th {\n",
       "        text-align: right;\n",
       "    }\n",
       "</style>\n",
       "<table border=\"1\" class=\"dataframe\">\n",
       "  <thead>\n",
       "    <tr style=\"text-align: right;\">\n",
       "      <th></th>\n",
       "      <th>date</th>\n",
       "      <th>day</th>\n",
       "      <th>period</th>\n",
       "      <th>nswprice</th>\n",
       "      <th>nswdemand</th>\n",
       "      <th>vicprice</th>\n",
       "      <th>vicdemand</th>\n",
       "      <th>transfer</th>\n",
       "      <th>class</th>\n",
       "    </tr>\n",
       "  </thead>\n",
       "  <tbody>\n",
       "    <tr>\n",
       "      <th>0</th>\n",
       "      <td>0.0</td>\n",
       "      <td>2</td>\n",
       "      <td>0.000000</td>\n",
       "      <td>0.056443</td>\n",
       "      <td>0.439155</td>\n",
       "      <td>0.003467</td>\n",
       "      <td>0.422915</td>\n",
       "      <td>0.414912</td>\n",
       "      <td>UP</td>\n",
       "    </tr>\n",
       "    <tr>\n",
       "      <th>1</th>\n",
       "      <td>0.0</td>\n",
       "      <td>2</td>\n",
       "      <td>0.021277</td>\n",
       "      <td>0.051699</td>\n",
       "      <td>0.415055</td>\n",
       "      <td>0.003467</td>\n",
       "      <td>0.422915</td>\n",
       "      <td>0.414912</td>\n",
       "      <td>UP</td>\n",
       "    </tr>\n",
       "    <tr>\n",
       "      <th>2</th>\n",
       "      <td>0.0</td>\n",
       "      <td>2</td>\n",
       "      <td>0.042553</td>\n",
       "      <td>0.051489</td>\n",
       "      <td>0.385004</td>\n",
       "      <td>0.003467</td>\n",
       "      <td>0.422915</td>\n",
       "      <td>0.414912</td>\n",
       "      <td>UP</td>\n",
       "    </tr>\n",
       "    <tr>\n",
       "      <th>3</th>\n",
       "      <td>0.0</td>\n",
       "      <td>2</td>\n",
       "      <td>0.063830</td>\n",
       "      <td>0.045485</td>\n",
       "      <td>0.314639</td>\n",
       "      <td>0.003467</td>\n",
       "      <td>0.422915</td>\n",
       "      <td>0.414912</td>\n",
       "      <td>UP</td>\n",
       "    </tr>\n",
       "    <tr>\n",
       "      <th>4</th>\n",
       "      <td>0.0</td>\n",
       "      <td>2</td>\n",
       "      <td>0.085106</td>\n",
       "      <td>0.042482</td>\n",
       "      <td>0.251116</td>\n",
       "      <td>0.003467</td>\n",
       "      <td>0.422915</td>\n",
       "      <td>0.414912</td>\n",
       "      <td>DOWN</td>\n",
       "    </tr>\n",
       "  </tbody>\n",
       "</table>\n",
       "</div>"
      ],
      "text/plain": [
       "   date  day    period  nswprice  nswdemand  vicprice  vicdemand  transfer  \\\n",
       "0   0.0    2  0.000000  0.056443   0.439155  0.003467   0.422915  0.414912   \n",
       "1   0.0    2  0.021277  0.051699   0.415055  0.003467   0.422915  0.414912   \n",
       "2   0.0    2  0.042553  0.051489   0.385004  0.003467   0.422915  0.414912   \n",
       "3   0.0    2  0.063830  0.045485   0.314639  0.003467   0.422915  0.414912   \n",
       "4   0.0    2  0.085106  0.042482   0.251116  0.003467   0.422915  0.414912   \n",
       "\n",
       "  class  \n",
       "0    UP  \n",
       "1    UP  \n",
       "2    UP  \n",
       "3    UP  \n",
       "4  DOWN  "
      ]
     },
     "execution_count": 337,
     "metadata": {},
     "output_type": "execute_result"
    }
   ],
   "source": [
    "df_elec = pd.read_csv(r'electricity-normalized.csv')\n",
    "df_elec.head(5)\n",
    "#df_elec.describe()\n",
    "#df_elec.shape\n",
    "#df_elec.info()"
   ]
  },
  {
   "cell_type": "code",
   "execution_count": 363,
   "metadata": {},
   "outputs": [
    {
     "name": "stdout",
     "output_type": "stream",
     "text": [
      "         class  date  day  nswdemand  nswprice  transfer  vicdemand  vicprice\n",
      "period                                                                       \n",
      "0.000000    UP   1.0    7   0.632550  0.319022  0.896053   0.544795  0.014586\n",
      "0.021277    UP   1.0    7   0.612467  0.147952  0.893860   0.523563  0.009863\n",
      "0.042553    UP   1.0    7   0.577507  0.286448  0.843421   0.578975  0.018625\n",
      "0.063830    UP   1.0    7   0.526034  0.159932  0.841667   0.562662  0.010434\n",
      "0.085106    UP   1.0    7   0.473073  0.163204  0.902632   0.529001  0.010590\n",
      "0.106383    UP   1.0    7   0.416691  0.144140  0.902632   0.494045  0.009483\n",
      "0.127660    UP   1.0    7   0.363880  0.098415  0.902632   0.466080  0.006072\n",
      "0.148936    UP   1.0    7   0.328622  0.081122  0.902632   0.443035  0.004967\n",
      "0.170213    UP   1.0    7   0.308688  0.087366  0.903070   0.423874  0.004715\n",
      "0.191489    UP   1.0    7   0.301398  0.102138  0.927632   0.422915  0.005091\n",
      "0.212766    UP   1.0    7   0.357929  0.118140  0.928070   0.425945  0.006396\n",
      "0.234043    UP   1.0    7   0.446445  0.177555  0.917982   0.514500  0.011824\n",
      "0.255319    UP   1.0    7   0.504760  0.230455  0.903509   0.631797  0.015640\n",
      "0.276596    UP   1.0    7   0.641029  0.660952  0.911842   0.738477  0.039815\n",
      "0.297872    UP   1.0    7   0.693841  0.499009  0.945614   0.677369  0.009090\n",
      "0.319149    UP   1.0    7   0.787861  0.827819  0.959211   0.744951  0.027266\n",
      "0.340426    UP   1.0    7   0.805266  0.866068  1.000000   0.780684  0.059229\n",
      "0.361702    UP   1.0    7   0.814936  0.782875  0.957895   0.798550  0.053653\n",
      "0.382979    UP   1.0    7   0.856888  0.753993  0.923684   0.806059  0.049397\n",
      "0.404255    UP   1.0    7   0.846921  0.603128  0.922807   0.819524  0.027083\n",
      "0.425532    UP   1.0    7   0.829664  0.852738  0.937719   0.831434  0.058134\n",
      "0.446809    UP   1.0    7   0.809878  0.870181  0.937719   0.839979  0.059474\n",
      "0.468085    UP   1.0    7   0.800803  0.751441  0.921053   0.850854  0.051314\n",
      "0.489362    UP   1.0    7   0.797233  0.939204  0.902193   0.877007  0.063884\n",
      "0.510638    UP   1.0    7   0.811812  0.943137  0.902193   0.906007  0.189294\n",
      "0.531915    UP   1.0    7   0.819994  0.966074  0.925877   0.920766  0.837239\n",
      "0.553191    UP   1.0    7   0.815829  0.970908  0.920614   0.948990  0.980682\n",
      "0.574468    UP   1.0    7   0.809432  0.939204  0.925877   0.967374  1.000000\n",
      "0.595745    UP   1.0    7   0.810622  0.968296  0.935526   0.964008  0.996228\n",
      "0.617021    UP   1.0    7   0.813597  0.981806  0.935526   0.975660  0.159199\n",
      "0.638298    UP   1.0    7   0.822969  0.981806  0.935526   0.996893  0.063350\n",
      "0.659574    UP   1.0    7   0.821779  0.939204  0.935526   1.000000  0.092550\n",
      "0.680851    UP   1.0    7   0.804522  0.939204  0.943860   0.989384  0.251335\n",
      "0.702128    UP   1.0    7   0.885302  1.000000  0.918421   0.975919  0.366515\n",
      "0.723404    UP   1.0    7   0.953585  0.731716  0.910088   0.917400  0.341808\n",
      "0.744681    UP   1.0    7   1.000000  0.979975  0.911404   0.872346  0.065749\n",
      "0.765957    UP   1.0    7   0.980809  0.648673  0.928509   0.875712  0.358386\n",
      "0.787234    UP   1.0    7   0.945106  0.587847  0.917105   0.915070  0.038714\n",
      "0.808511    UP   1.0    7   0.905683  0.382311  0.917105   0.906266  0.025556\n",
      "0.829787    UP   1.0    7   0.871318  0.234448  0.896053   0.874935  0.015320\n",
      "0.851064    UP   1.0    7   0.844243  0.224481  0.895175   0.828068  0.011547\n",
      "0.872340    UP   1.0    7   0.822969  0.444037  0.906140   0.781978  0.010139\n",
      "0.893617    UP   1.0    7   0.773728  0.169839  0.910088   0.731745  0.008972\n",
      "0.914894    UP   1.0    7   0.708718  0.231086  0.921491   0.661056  0.006788\n",
      "0.936170    UP   1.0    7   0.714668  0.648223  0.939035   0.597359  0.009898\n",
      "0.957447    UP   1.0    7   0.692056  0.283145  0.926754   0.537804  0.007083\n",
      "0.978723    UP   1.0    7   0.665873  0.283505  0.896053   0.596841  0.019107\n",
      "1.000000    UP   1.0    7   0.649212  0.242344  0.874123   0.563439  0.015901\n"
     ]
    }
   ],
   "source": [
    "#df_elec_pivot = pd.pivot_table(df_elec, index='period', aggfunc='count')\n",
    "#print(df_elec_pivot)\n",
    "df_elec_pivot = pd.pivot_table(df_elec, index='period', aggfunc='max')\n",
    "print(df_elec_pivot)"
   ]
  },
  {
   "cell_type": "code",
   "execution_count": 368,
   "metadata": {},
   "outputs": [
    {
     "name": "stdout",
     "output_type": "stream",
     "text": [
      "         class  day  nswdemand  nswprice\n",
      "period                                  \n",
      "0.744681    UP    7   1.000000  0.979975\n",
      "0.765957    UP    7   0.980809  0.648673\n",
      "0.723404    UP    7   0.953585  0.731716\n",
      "0.787234    UP    7   0.945106  0.587847\n",
      "0.808511    UP    7   0.905683  0.382311\n",
      "0.702128    UP    7   0.885302  1.000000\n",
      "0.829787    UP    7   0.871318  0.234448\n",
      "0.382979    UP    7   0.856888  0.753993\n",
      "0.404255    UP    7   0.846921  0.603128\n",
      "0.851064    UP    7   0.844243  0.224481\n",
      "0.425532    UP    7   0.829664  0.852738\n",
      "0.638298    UP    7   0.822969  0.981806\n",
      "0.872340    UP    7   0.822969  0.444037\n",
      "0.659574    UP    7   0.821779  0.939204\n",
      "0.531915    UP    7   0.819994  0.966074\n",
      "0.553191    UP    7   0.815829  0.970908\n",
      "0.361702    UP    7   0.814936  0.782875\n",
      "0.617021    UP    7   0.813597  0.981806\n",
      "0.510638    UP    7   0.811812  0.943137\n",
      "0.595745    UP    7   0.810622  0.968296\n",
      "0.446809    UP    7   0.809878  0.870181\n",
      "0.574468    UP    7   0.809432  0.939204\n",
      "0.340426    UP    7   0.805266  0.866068\n",
      "0.680851    UP    7   0.804522  0.939204\n",
      "0.468085    UP    7   0.800803  0.751441\n",
      "0.489362    UP    7   0.797233  0.939204\n",
      "0.319149    UP    7   0.787861  0.827819\n",
      "0.893617    UP    7   0.773728  0.169839\n",
      "0.936170    UP    7   0.714668  0.648223\n",
      "0.914894    UP    7   0.708718  0.231086\n",
      "0.297872    UP    7   0.693841  0.499009\n",
      "0.957447    UP    7   0.692056  0.283145\n",
      "0.978723    UP    7   0.665873  0.283505\n",
      "1.000000    UP    7   0.649212  0.242344\n",
      "0.276596    UP    7   0.641029  0.660952\n",
      "0.000000    UP    7   0.632550  0.319022\n",
      "0.021277    UP    7   0.612467  0.147952\n",
      "0.042553    UP    7   0.577507  0.286448\n",
      "0.063830    UP    7   0.526034  0.159932\n",
      "0.255319    UP    7   0.504760  0.230455\n"
     ]
    }
   ],
   "source": [
    "df_elec_part = df_elec_pivot[df_elec_pivot['nswdemand']>=0.5].sort_values('nswdemand', ascending=False)[['class', 'day', 'nswdemand', 'nswprice']]\n",
    "print(df_elec_part)"
   ]
  },
  {
   "cell_type": "markdown",
   "metadata": {},
   "source": [
    "Merge"
   ]
  },
  {
   "cell_type": "code",
   "execution_count": 322,
   "metadata": {},
   "outputs": [
    {
     "name": "stdout",
     "output_type": "stream",
     "text": [
      "   Roll No.  Physics Branch-Phy\n",
      "0         1       34         CS\n",
      "1         2       67         EE\n",
      "2         3       34        ICV\n",
      "3         4       89        BIO\n",
      "4         5       12         CS\n"
     ]
    }
   ],
   "source": [
    "df1 = pd.DataFrame({'Roll No.': [1,2,3,4,5], 'Physics': [34,67,34,89,12], 'Branch-Phy': ['CS', 'EE', 'ICV', 'BIO', 'CS']})\n",
    "print(df1)"
   ]
  },
  {
   "cell_type": "code",
   "execution_count": 323,
   "metadata": {},
   "outputs": [
    {
     "name": "stdout",
     "output_type": "stream",
     "text": [
      "   Roll No.  Chemistry Branch-Che\n",
      "0         1         78         CH\n",
      "1         2         33         EE\n",
      "2         3         39        BIO\n",
      "3         4         81        BIO\n",
      "4         5         90         CS\n"
     ]
    }
   ],
   "source": [
    "#df2 = pd.DataFrame({'Roll No.': [1,2,6,9,10], 'Chemistry': [78,33,39,81,90]})\n",
    "df2 = pd.DataFrame({'Roll No.': [1,2,3,4,5], 'Chemistry': [78,33,39,81,90], 'Branch-Che': ['CH', 'EE', 'BIO', 'BIO', 'CS']})\n",
    "print(df2)"
   ]
  },
  {
   "cell_type": "code",
   "execution_count": 324,
   "metadata": {},
   "outputs": [
    {
     "name": "stdout",
     "output_type": "stream",
     "text": [
      "   Roll No.  Physics Branch-Phy  Chemistry Branch-Che\n",
      "0         1       34         CS         78         CH\n",
      "1         2       67         EE         33         EE\n",
      "2         3       34        ICV         39        BIO\n",
      "3         4       89        BIO         81        BIO\n",
      "4         5       12         CS         90         CS\n"
     ]
    }
   ],
   "source": [
    "#df_merged = df1.merge(df2, on='Roll No.')\n",
    "df_merged = pd.merge(df1, df2, on='Roll No.')\n",
    "#df_merged = pd.merge(df1, df2, how='left')\n",
    "print(df_merged)\n",
    "#df_outer = pd.merge(df1, df2, how='outer')\n",
    "#print(df_outer)"
   ]
  },
  {
   "cell_type": "code",
   "execution_count": 302,
   "metadata": {},
   "outputs": [
    {
     "name": "stdout",
     "output_type": "stream",
     "text": [
      "   Roll No.  Physics\n",
      "0        11       34\n",
      "1        12       67\n",
      "2        13       34\n",
      "3        14       89\n",
      "4        15       12\n"
     ]
    }
   ],
   "source": [
    "df3 = pd.DataFrame({'Roll No.': [11,12,13,14,15], 'Physics': [34,67,34,89,12]})\n",
    "print(df3)"
   ]
  },
  {
   "cell_type": "code",
   "execution_count": 335,
   "metadata": {},
   "outputs": [
    {
     "name": "stdout",
     "output_type": "stream",
     "text": [
      "            Physics  Roll No.\n",
      "Branch-Phy                   \n",
      "BIO               1         1\n",
      "CS                2         2\n",
      "EE                1         1\n",
      "ICV               1         1\n",
      "            Physics  Roll No.\n",
      "Branch-Phy                   \n",
      "BIO              89         4\n",
      "CS               34         5\n",
      "EE               67         2\n",
      "ICV              34         3\n"
     ]
    },
    {
     "data": {
      "text/html": [
       "<div>\n",
       "<style scoped>\n",
       "    .dataframe tbody tr th:only-of-type {\n",
       "        vertical-align: middle;\n",
       "    }\n",
       "\n",
       "    .dataframe tbody tr th {\n",
       "        vertical-align: top;\n",
       "    }\n",
       "\n",
       "    .dataframe thead th {\n",
       "        text-align: right;\n",
       "    }\n",
       "</style>\n",
       "<table border=\"1\" class=\"dataframe\">\n",
       "  <thead>\n",
       "    <tr style=\"text-align: right;\">\n",
       "      <th></th>\n",
       "      <th>Physics</th>\n",
       "      <th>Roll No.</th>\n",
       "    </tr>\n",
       "    <tr>\n",
       "      <th>Branch-Phy</th>\n",
       "      <th></th>\n",
       "      <th></th>\n",
       "    </tr>\n",
       "  </thead>\n",
       "  <tbody>\n",
       "    <tr>\n",
       "      <th>BIO</th>\n",
       "      <td>89</td>\n",
       "      <td>4</td>\n",
       "    </tr>\n",
       "    <tr>\n",
       "      <th>EE</th>\n",
       "      <td>67</td>\n",
       "      <td>2</td>\n",
       "    </tr>\n",
       "  </tbody>\n",
       "</table>\n",
       "</div>"
      ],
      "text/plain": [
       "            Physics  Roll No.\n",
       "Branch-Phy                   \n",
       "BIO              89         4\n",
       "EE               67         2"
      ]
     },
     "execution_count": 335,
     "metadata": {},
     "output_type": "execute_result"
    }
   ],
   "source": [
    "df_pivot = pd.pivot_table(df1, index='Branch-Phy', aggfunc='count')\n",
    "print(df_pivot)\n",
    "df_pivot = pd.pivot_table(df1, index='Branch-Phy', aggfunc='max')\n",
    "print(df_pivot)\n",
    "#df_pivot.loc['CS']\n",
    "df_pivot.loc[df_pivot['Physics']>50]"
   ]
  },
  {
   "cell_type": "markdown",
   "metadata": {},
   "source": [
    "Leetcode: Introduction to Pandas\n",
    "\n",
    "1. Create a DataFrame from a List:\n",
    "    df = pd.DataFrame(\n",
    "        student_data, columns = ['student_id', 'age']\n",
    "    )\n",
    "\n",
    "2. Get the size of a DataFrame\n",
    "return [players.shape[0], players.shape[1]]\n",
    "\n",
    "3. Display first 3 rows\n",
    "return(employees[:3])\n",
    "\n",
    "4. Select data\n",
    "df = students.loc[students['student_id'] == 101, ['name', 'age']]\n",
    "\n",
    "5. Add a column\n",
    "employees['bonus'] = employees['salary'] * 2\n",
    "\n",
    "6. Remove duplicates based on 'email' column, keep first\n",
    "return customers.drop_duplicates(subset=['email'], keep='first')\n",
    "\n",
    "7. Drop rows with missing values on 'name' column\n",
    "return students.dropna(subset='name')\n",
    "\n",
    "8. Double the value of a column\n",
    "    employees['salary'] = employees['salary'] * 2\n",
    "    return employees\n",
    "\n",
    "9. Rename columns\n",
    "    return students.rename(columns =\n",
    "    {\n",
    "        'id': 'student_id',\n",
    "        'first': 'first_name',\n",
    "        'last': 'last_name',\n",
    "        'age': 'age_in_years'\n",
    "    })\n",
    "Another solution:\n",
    "#    df = pd.DataFrame(\n",
    "#        {\n",
    "#        'student_id': students['id'], \n",
    "#        'first_name': students['first'],\n",
    "#        'last_name': students['last'],\n",
    "#        'age_in_years': students['age']\n",
    "#        }\n",
    "#    )\n",
    "#    return df\n",
    "\n",
    "10. Change type\n",
    "return students.astype({'grade': int})\n",
    "\n",
    "11. Fill missing value\n",
    "return products.fillna({'quantity': 0})\n",
    "\n",
    "12. Concatenate two DataFrames\n",
    "return pd.concat([df1, df2], axis=0)\n",
    "\n",
    "13. Pivot table\n",
    "    df_pivot = pd.pivot_table(weather, \n",
    "    index = 'month', columns = 'city', values = 'temperature')\n",
    "    return df_pivot\n",
    "\n",
    "14. Unpivot a table (melt)\n",
    "Unpivot a DataFrame from wide to long format, optionally leaving identifiers set.\n",
    "\n",
    "This function is useful to massage a DataFrame into a format where one or more columns are identifier variables (id_vars), while all other columns, considered measured variables (value_vars), are \"unpivoted\" to the row axis, leaving just two non-identifier columns, 'variable' and 'value'.\n",
    "\n",
    "Input:\n",
    "+-------------+-----------+-----------+-----------+-----------+\n",
    "| product     | quarter_1 | quarter_2 | quarter_3 | quarter_4 |\n",
    "+-------------+-----------+-----------+-----------+-----------+\n",
    "| Umbrella    | 417       | 224       | 379       | 611       |\n",
    "| SleepingBag | 800       | 936       | 93        | 875       |\n",
    "+-------------+-----------+-----------+-----------+-----------+\n",
    "Output:\n",
    "+-------------+-----------+-------+\n",
    "| product     | quarter   | sales |\n",
    "+-------------+-----------+-------+\n",
    "| Umbrella    | quarter_1 | 417   |\n",
    "| SleepingBag | quarter_1 | 800   |\n",
    "| Umbrella    | quarter_2 | 224   |\n",
    "| SleepingBag | quarter_2 | 936   |\n",
    "| Umbrella    | quarter_3 | 379   |\n",
    "| SleepingBag | quarter_3 | 93    |\n",
    "| Umbrella    | quarter_4 | 611   |\n",
    "| SleepingBag | quarter_4 | 875   |\n",
    "+-------------+-----------+-------+\n",
    "\n",
    "    df_melt = pd.melt(report, \n",
    "    id_vars = ['product'],\n",
    "    var_name = 'quarter',\n",
    "    value_vars = report.columns[1:],\n",
    "    value_name = 'sales'\n",
    "    )\n",
    "    return df_melt\n",
    "\n",
    "15. Select and sort\n",
    " df = animals[animals['weight']>100].sort_values('weight', ascending=False)[['name']]\n",
    "    return df"
   ]
  },
  {
   "cell_type": "markdown",
   "metadata": {},
   "source": [
    "Leetcode: 30 Days of Pandas\n",
    "\n",
    "1. Select\n",
    "df = world[(world['population'] >= 25000000) | (world['area'] >= 3000000)][['name', 'population', 'area']]\n",
    "eturn df\n",
    "\n",
    "    df = products[(products['low_fats'] == 'Y') & (products['recyclable'] == 'Y')][['product_id']] \n",
    "    return df  \n",
    "\n",
    "2. Select: Not in another table (DataFrame), and rename column\n",
    "    df = customers[~customers['id'].isin(orders['customerId'])][['name']]\n",
    "    df = df.rename(columns={'name': 'Customers'})\n",
    "    return df\n",
    "\n",
    "3. Select, sort, drop, rename\n",
    "    df = views[views['author_id'] == views['viewer_id']].sort_values(by=['author_id'], ascending=[True])[['author_id']]\n",
    "    df = df.drop_duplicates(subset='author_id', keep='first')\n",
    "    #df = df.rename(columns={'author_id': 'id'})\n",
    "    df.columns = ['id']\n",
    "    return df\n",
    "\n",
    "4. Check string length\n",
    "    df = tweets[tweets['content'].str.len() > 15][['tweet_id']]\n",
    "    return df\n",
    "\n",
    "5. IF/THEN condition, check string startswith, sort\n",
    "    employees['bonus'] = np.where((employees['employee_id']%2 == 1) & (~employees['name'].str.startswith('M')), employees['salary'], 0)\n",
    "    df = employees[['employee_id', 'bonus']].sort_values(by=['employee_id'], ascending=[True])    \n",
    "    return df\n",
    "\n",
    "6. Upper, lower case\n",
    "    .str.upper(), .str.lower(), .str.isupper() or .str.islower()\n",
    "    users['name'] = users['name'].str.capitalize()\n",
    "    users = users.sort_values(by=['user_id'], ascending=[True])\n",
    "    return users\n",
    "\n",
    "7. Regex pattern and str.match\n",
    "    email_rgx = r'^[A-Za-z][A-Za-z0-9_.-]*@leetcode\\.com$'\n",
    "    users['valid_email'] = users['mail'].str.match(email_rgx)\n",
    "    df = users[users['valid_email'] == True][['user_id', 'name', 'mail']]\n",
    "    return df\n",
    "\n",
    "    diab1_pattern = r'^DIAB1'\n",
    "    patients['diab1_ind'] = (patients['conditions'].str.contains(' DIAB1'))|(patients['conditions'].str.match(diab1_pattern))\n",
    "    df = patients[patients['diab1_ind'] == True][['patient_id', 'patient_name', 'conditions']]\n",
    "    return df   \n",
    "\n",
    "    "
   ]
  },
  {
   "cell_type": "code",
   "execution_count": 357,
   "metadata": {},
   "outputs": [
    {
     "data": {
      "text/html": [
       "<div>\n",
       "<style scoped>\n",
       "    .dataframe tbody tr th:only-of-type {\n",
       "        vertical-align: middle;\n",
       "    }\n",
       "\n",
       "    .dataframe tbody tr th {\n",
       "        vertical-align: top;\n",
       "    }\n",
       "\n",
       "    .dataframe thead th {\n",
       "        text-align: right;\n",
       "    }\n",
       "</style>\n",
       "<table border=\"1\" class=\"dataframe\">\n",
       "  <thead>\n",
       "    <tr style=\"text-align: right;\">\n",
       "      <th></th>\n",
       "      <th>Roll No.</th>\n",
       "      <th>Physics</th>\n",
       "      <th>Branch-Phy</th>\n",
       "    </tr>\n",
       "  </thead>\n",
       "  <tbody>\n",
       "    <tr>\n",
       "      <th>0</th>\n",
       "      <td>1</td>\n",
       "      <td>34</td>\n",
       "      <td>CS</td>\n",
       "    </tr>\n",
       "    <tr>\n",
       "      <th>1</th>\n",
       "      <td>2</td>\n",
       "      <td>67</td>\n",
       "      <td>EE</td>\n",
       "    </tr>\n",
       "    <tr>\n",
       "      <th>2</th>\n",
       "      <td>3</td>\n",
       "      <td>34</td>\n",
       "      <td>ICV</td>\n",
       "    </tr>\n",
       "    <tr>\n",
       "      <th>3</th>\n",
       "      <td>4</td>\n",
       "      <td>89</td>\n",
       "      <td>BIO</td>\n",
       "    </tr>\n",
       "    <tr>\n",
       "      <th>4</th>\n",
       "      <td>5</td>\n",
       "      <td>12</td>\n",
       "      <td>CS</td>\n",
       "    </tr>\n",
       "  </tbody>\n",
       "</table>\n",
       "</div>"
      ],
      "text/plain": [
       "   Roll No.  Physics Branch-Phy\n",
       "0         1       34         CS\n",
       "1         2       67         EE\n",
       "2         3       34        ICV\n",
       "3         4       89        BIO\n",
       "4         5       12         CS"
      ]
     },
     "execution_count": 357,
     "metadata": {},
     "output_type": "execute_result"
    }
   ],
   "source": [
    "df1"
   ]
  },
  {
   "cell_type": "code",
   "execution_count": 384,
   "metadata": {},
   "outputs": [
    {
     "data": {
      "text/plain": [
       "pandas.core.series.Series"
      ]
     },
     "execution_count": 384,
     "metadata": {},
     "output_type": "execute_result"
    }
   ],
   "source": [
    "#df1['Branch-Phy'].str.lower()\n",
    "#df1['Branch-Phy'].str[0].upper()\n",
    "df1['Branch-Phy'].str."
   ]
  }
 ],
 "metadata": {
  "kernelspec": {
   "display_name": "venv",
   "language": "python",
   "name": "python3"
  },
  "language_info": {
   "codemirror_mode": {
    "name": "ipython",
    "version": 3
   },
   "file_extension": ".py",
   "mimetype": "text/x-python",
   "name": "python",
   "nbconvert_exporter": "python",
   "pygments_lexer": "ipython3",
   "version": "3.12.7"
  }
 },
 "nbformat": 4,
 "nbformat_minor": 2
}
